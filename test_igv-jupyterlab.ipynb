{
 "cells": [
  {
   "cell_type": "markdown",
   "id": "93f809ba-b90f-4f91-b81f-bcc93af5e60a",
   "metadata": {},
   "source": [
    "# Test igv-jupyterlab\n",
    "\n",
    "https://github.com/epi2me-labs/igv-jupyterlab"
   ]
  },
  {
   "cell_type": "code",
   "execution_count": 1,
   "id": "44313a8c-b647-4c91-964b-62a311cb958b",
   "metadata": {},
   "outputs": [],
   "source": [
    "from igv_jupyterlab import IGV"
   ]
  },
  {
   "cell_type": "code",
   "execution_count": 2,
   "id": "f96431b5-5600-467f-9b1a-93d992147f07",
   "metadata": {},
   "outputs": [
    {
     "data": {
      "application/vnd.jupyter.widget-view+json": {
       "model_id": "271d599dab9841ffa0abb073b9a0d00c",
       "version_major": 2,
       "version_minor": 0
      },
      "text/plain": [
       "IGV(id='igv_9717440', initialConfig={'id': 'igv_9717440', 'locus': '', 'reference': {'name': 'Human (GRCh38/hg…"
      ]
     },
     "metadata": {},
     "output_type": "display_data"
    }
   ],
   "source": [
    "# At minimum, IGV requires a single argument, genome.\n",
    "\n",
    "# For supported genomes, a simple name may be supplied.\n",
    "IGV(genome=\"hg19\")\n",
    "\n",
    "# For all other genomes, we must construct a configuration object.\n",
    "# A helper method supplied to make this easier.\n",
    "genome = IGV.create_genome(\n",
    "    name=\"Human (GRCh38/hg38)\",\n",
    "    fasta_url=\"https://s3.amazonaws.com/igv.broadinstitute.org/genomes/seq/hg38/hg38.fa\",\n",
    "    index_url=\"https://s3.amazonaws.com/igv.broadinstitute.org/genomes/seq/hg38/hg38.fa.fai\",\n",
    "    cytoband_url=\"https://s3.amazonaws.com/igv.broadinstitute.org/annotations/hg38/cytoBandIdeo.txt\",\n",
    ")\n",
    "\n",
    "igv = IGV(genome=genome)\n",
    "\n",
    "display(igv)"
   ]
  },
  {
   "cell_type": "markdown",
   "id": "7785e711-dc96-456a-aed8-0200387f8f99",
   "metadata": {},
   "source": [
    "## Load local *Ostreococcus tauri* genome\n",
    "\n",
    "Genome index (`otauri.fa.fai`) has been created with the standalone version of IGV and this guideline: https://software.broadinstitute.org/software/igv/LoadGenome"
   ]
  },
  {
   "cell_type": "code",
   "execution_count": 2,
   "id": "73b3925e-3f27-44ee-a4f1-c20f6f95abef",
   "metadata": {},
   "outputs": [
    {
     "data": {
      "application/vnd.jupyter.widget-view+json": {
       "model_id": "cfb6b5ecf06641d0a922fb8a2268f224",
       "version_major": 2,
       "version_minor": 0
      },
      "text/plain": [
       "IGV(id='igv_2887917', initialConfig={'id': 'igv_2887917', 'locus': '', 'reference': {'name': 'O tauri', 'fasta…"
      ]
     },
     "metadata": {},
     "output_type": "display_data"
    }
   ],
   "source": [
    "genome = IGV.create_genome(\n",
    "    name=\"O tauri\",\n",
    "    fasta_url=\"/tree/otauri.fa\",\n",
    "    index_url=\"/tree/otauri.fa.fai\"\n",
    ")\n",
    "igv = IGV(genome=genome)\n",
    "\n",
    "display(igv)"
   ]
  },
  {
   "cell_type": "markdown",
   "id": "a658add8-f9a9-4902-9ef6-1d6fd3b6b8b4",
   "metadata": {},
   "source": [
    "This should work!"
   ]
  },
  {
   "cell_type": "code",
   "execution_count": 3,
   "id": "d2f73c73-1507-4ff7-843a-8731d9e9ece7",
   "metadata": {},
   "outputs": [],
   "source": [
    "track = IGV.create_track(\n",
    "    name=\"Refseq Genes\",\n",
    "    url=\"/tree/otauri.gff\",\n",
    "    indexed=False\n",
    ")\n",
    "\n",
    "igv.load_track(track)"
   ]
  },
  {
   "cell_type": "markdown",
   "id": "b8003bdf-e3e3-43c4-86c4-68bb28170bb9",
   "metadata": {},
   "source": [
    "Track seems loaded but is not displayed."
   ]
  },
  {
   "cell_type": "code",
   "execution_count": 4,
   "id": "df8e772f-6867-4b0c-bfd6-efa9fb5f4bec",
   "metadata": {},
   "outputs": [],
   "source": [
    "track = IGV.create_track(\n",
    "    name=\"Local BAM\",\n",
    "    url=\"/tree/bowtie-37.sorted.bam\",\n",
    "    indexed=False\n",
    ")\n",
    "igv.load_track(track)"
   ]
  },
  {
   "cell_type": "markdown",
   "id": "1ed17046-8c9c-4249-9edc-e836986e3694",
   "metadata": {},
   "source": [
    "\"Error loading track data\" message. Maybe index is missing."
   ]
  }
 ],
 "metadata": {
  "kernelspec": {
   "display_name": "Python 3",
   "language": "python",
   "name": "python3"
  },
  "language_info": {
   "codemirror_mode": {
    "name": "ipython",
    "version": 3
   },
   "file_extension": ".py",
   "mimetype": "text/x-python",
   "name": "python",
   "nbconvert_exporter": "python",
   "pygments_lexer": "ipython3",
   "version": "3.8.8"
  }
 },
 "nbformat": 4,
 "nbformat_minor": 5
}
