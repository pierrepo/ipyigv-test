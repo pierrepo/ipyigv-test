{
 "cells": [
  {
   "cell_type": "markdown",
   "id": "483044d2",
   "metadata": {},
   "source": [
    "# Test with ipyigv and local files\n",
    "\n",
    "Documentation:\n",
    "\n",
    "- https://github.com/QuantStack/ipyigv\n",
    "- igv.js [API](https://github.com/igvteam/igv.js/wiki/Tracks-2.0)\n",
    "\n",
    "## Load modules"
   ]
  },
  {
   "cell_type": "code",
   "execution_count": 1,
   "id": "1cccce24",
   "metadata": {},
   "outputs": [],
   "source": [
    "import ipyigv as igv\n",
    "from ipywidgets.widgets.trait_types import InstanceDict\n",
    "from ipyigv.options import ReferenceGenome, Track\n",
    "from ipywidgets import Output "
   ]
  },
  {
   "cell_type": "markdown",
   "id": "093e9a3c",
   "metadata": {},
   "source": [
    "## Remote human genome (reference use case)"
   ]
  },
  {
   "cell_type": "code",
   "execution_count": 2,
   "id": "f8568d17",
   "metadata": {},
   "outputs": [
    {
     "data": {
      "application/vnd.jupyter.widget-view+json": {
       "model_id": "9210487b0c5645d5bab622e8d67b990e",
       "version_major": 2,
       "version_minor": 0
      },
      "text/plain": [
       "IgvBrowser(genome=ReferenceGenome(cytobandURL='https://s3.dualstack.us-east-1.amazonaws.com/igv.org.genomes/hg…"
      ]
     },
     "metadata": {},
     "output_type": "display_data"
    }
   ],
   "source": [
    "genome_dict = {\n",
    "    'id': 'hg38',\n",
    "    'name': 'Human (GRCh38/hg38)',\n",
    "    'fastaURL': 'https://s3.dualstack.us-east-1.amazonaws.com/igv.broadinstitute.org/genomes/seq/hg38/hg38.fa',\n",
    "    'indexURL': 'https://s3.dualstack.us-east-1.amazonaws.com/igv.broadinstitute.org/genomes/seq/hg38/hg38.fa.fai',\n",
    "    'cytobandURL': 'https://s3.dualstack.us-east-1.amazonaws.com/igv.org.genomes/hg38/annotations/cytoBandIdeo.txt.gz',\n",
    "    'tracks': [\n",
    "        {\n",
    "            'name': 'Refseq Genes',\n",
    "            'format': 'refgene',\n",
    "            'url': 'https://s3.dualstack.us-east-1.amazonaws.com/igv.org.genomes/hg38/refGene.txt.gz',\n",
    "            'indexed': False,\n",
    "            'visibilityWindow': -1,\n",
    "            'removable': False,\n",
    "            'order': 1000000\n",
    "        }\n",
    "    ]\n",
    "}\n",
    "\n",
    "genome = ReferenceGenome(**genome_dict)\n",
    "browser = igv.IgvBrowser(genome=genome)\n",
    "browser"
   ]
  },
  {
   "cell_type": "markdown",
   "id": "768393d9",
   "metadata": {},
   "source": [
    "This should work.\n",
    "\n",
    "### Load a remote bam file from Claire"
   ]
  },
  {
   "cell_type": "code",
   "execution_count": 5,
   "id": "365e947b",
   "metadata": {},
   "outputs": [],
   "source": [
    "bam_dict = {'name': 'remotebam',\n",
    "   'format': 'bam',\n",
    "   'url': 'https://data.cyverse.org/dav-anon/iplant/home/cvandied/forSandrine/6540_dedup_fl100.bam',\n",
    "   'indexed': False\n",
    "}\n",
    "bam_track = Track(**bam_dict)\n",
    "browser.add_track(bam_track)"
   ]
  },
  {
   "cell_type": "markdown",
   "id": "0d0451b2",
   "metadata": {},
   "source": [
    "### Load the bam file locally"
   ]
  },
  {
   "cell_type": "code",
   "execution_count": 4,
   "id": "66f2c5ea",
   "metadata": {},
   "outputs": [
    {
     "name": "stderr",
     "output_type": "stream",
     "text": [
      "2021-05-18 11:00:29 URL:https://data.cyverse.org/dav-anon/iplant/home/cvandied/forSandrine/6540_dedup_fl100.bam [741957260/741957260] -> \"6540_dedup_fl100.bam\" [1]\n"
     ]
    }
   ],
   "source": [
    "%%bash\n",
    "if [[ ! -f 6540_dedup_fl100.bam ]]\n",
    "then\n",
    "    wget -c --no-verbose https://data.cyverse.org/dav-anon/iplant/home/cvandied/forSandrine/6540_dedup_fl100.bam\n",
    "fi"
   ]
  },
  {
   "cell_type": "code",
   "execution_count": 3,
   "id": "5a026e5d",
   "metadata": {},
   "outputs": [],
   "source": [
    "bam_dict = {'name': 'localbam',\n",
    "   'format': 'bam',\n",
    "   'url': 'files/6540_dedup_fl100.bam',\n",
    "   'indexed': False\n",
    "}\n",
    "bam_track = Track(**bam_dict)\n",
    "browser.add_track(bam_track)"
   ]
  },
  {
   "cell_type": "markdown",
   "id": "7939b6a6",
   "metadata": {},
   "source": [
    "## Load local *Ostreococcus tauri* genome\n",
    "\n",
    "Genome index (`otauri.fa.fai`) has been created with the standalone version of IGV and this guideline: https://software.broadinstitute.org/software/igv/LoadGenome"
   ]
  },
  {
   "cell_type": "code",
   "execution_count": 11,
   "id": "e9e23a50",
   "metadata": {},
   "outputs": [
    {
     "data": {
      "application/vnd.jupyter.widget-view+json": {
       "model_id": "1a2dbc4acef84fb2bd69aac6d2ec621d",
       "version_major": 2,
       "version_minor": 0
      },
      "text/plain": [
       "IgvBrowser(genome=ReferenceGenome(fastaURL='/tree/files/otauri.fa', id='otauri', indexURL='/tree/files/otauri.…"
      ]
     },
     "metadata": {},
     "output_type": "display_data"
    }
   ],
   "source": [
    "genome_dict = {\n",
    "    \"id\": \"otauri\",\n",
    "    \"name\": \"O tauri\",\n",
    "    \"fastaURL\": \"/tree/files/otauri.fa\",\n",
    "    \"indexURL\": \"/tree/files/otauri.fa.fai\",\n",
    "    \"tracks\": [\n",
    "      {\n",
    "        \"name\": \"Refseq Genes\",\n",
    "        \"format\": \"refgene\",\n",
    "        \"url\": \"/tree/otauri.gff\",\n",
    "        \"order\": 1000000,\n",
    "        \"visibilityWindow\": -1,\n",
    "        \"indexed\": False\n",
    "      }\n",
    "    ]\n",
    "}\n",
    "\n",
    "genome = ReferenceGenome(**genome_dict)\n",
    "browser = igv.IgvBrowser(genome=genome)\n",
    "browser"
   ]
  },
  {
   "cell_type": "markdown",
   "id": "708399c3",
   "metadata": {},
   "source": [
    "The genome is not loaded."
   ]
  },
  {
   "cell_type": "markdown",
   "id": "708a9509",
   "metadata": {},
   "source": [
    "## Local human genome\n",
    "\n",
    "Download the data first :"
   ]
  },
  {
   "cell_type": "code",
   "execution_count": 4,
   "id": "198a1ad7",
   "metadata": {},
   "outputs": [],
   "source": [
    "%%bash\n",
    "\n",
    "if [[ ! -f hg38.fa ]]\n",
    "then\n",
    "    wget -c --no-verbose https://s3.dualstack.us-east-1.amazonaws.com/igv.broadinstitute.org/genomes/seq/hg38/hg38.fa\n",
    "fi\n",
    "\n",
    "if [[ ! -f hg38.fa.fai ]]\n",
    "then\n",
    "    wget -c --no-verbose https://s3.dualstack.us-east-1.amazonaws.com/igv.broadinstitute.org/genomes/seq/hg38/hg38.fa.fai\n",
    "fi\n",
    "\n",
    "if [[ ! -f refGene.txt.gz ]]\n",
    "then\n",
    "    wget -c --no-verbose https://s3.dualstack.us-east-1.amazonaws.com/igv.org.genomes/hg38/refGene.txt.gz\n",
    "fi"
   ]
  },
  {
   "cell_type": "code",
   "execution_count": 5,
   "id": "f8b105f7",
   "metadata": {},
   "outputs": [
    {
     "name": "stdout",
     "output_type": "stream",
     "text": [
      "-rw-rw-r-- 1 pierre pierre 3,1G mars  11  2014 hg38.fa\n",
      "-rw-rw-r-- 1 pierre pierre  19K mars  11  2014 hg38.fa.fai\n",
      "-rw-rw-r-- 1 pierre pierre 8,0M août  11  2020 refGene.txt.gz\n"
     ]
    }
   ],
   "source": [
    "!ls -lh hg38* ref*"
   ]
  },
  {
   "cell_type": "code",
   "execution_count": 6,
   "id": "7fc26490",
   "metadata": {},
   "outputs": [
    {
     "data": {
      "application/vnd.jupyter.widget-view+json": {
       "model_id": "6c7da50d326c445b891c0d5a07a56dc2",
       "version_major": 2,
       "version_minor": 0
      },
      "text/plain": [
       "IgvBrowser(genome=ReferenceGenome(fastaURL='files/hg38.fa', id='hg38', indexURL='files/hg38.fa.fai', name='Hum…"
      ]
     },
     "metadata": {},
     "output_type": "display_data"
    }
   ],
   "source": [
    "genome_dict = {'id': 'hg38',\n",
    " 'name': 'Human (GRCh38/hg38)',\n",
    " 'fastaURL': 'files/hg38.fa',\n",
    " 'indexURL': 'files/hg38.fa.fai',\n",
    " \"tracks\": [\n",
    "      {\n",
    "        \"name\": \"Refseq Genes\",\n",
    "        \"format\": \"refgene\",\n",
    "        \"url\": \"files/refGene.txt.gz\",\n",
    "        \"order\": 1000000,\n",
    "        \"visibilityWindow\": -1,\n",
    "        \"indexed\": False\n",
    "      }\n",
    "    ]\n",
    "}\n",
    "genome = ReferenceGenome(**genome_dict)\n",
    "browser = igv.IgvBrowser(genome=genome)\n",
    "browser"
   ]
  },
  {
   "cell_type": "markdown",
   "id": "c96fdac8",
   "metadata": {},
   "source": [
    "It works!\n",
    "\n",
    "Now let's change the id of the genome:"
   ]
  },
  {
   "cell_type": "code",
   "execution_count": 9,
   "id": "7e708457",
   "metadata": {},
   "outputs": [
    {
     "data": {
      "application/vnd.jupyter.widget-view+json": {
       "model_id": "1d81af3cbe614f53b51fe95607511ffb",
       "version_major": 2,
       "version_minor": 0
      },
      "text/plain": [
       "IgvBrowser(genome=ReferenceGenome(fastaURL='/tree/hg38.fa', id='toto', indexURL='/tree/hg38.fa.fai', name='Hum…"
      ]
     },
     "metadata": {},
     "output_type": "display_data"
    }
   ],
   "source": [
    "genome_dict = {'id': 'toto',\n",
    " 'name': 'Human (GRCh38/hg38)',\n",
    " 'fastaURL': 'files/hg38.fa',\n",
    " 'indexURL': 'files/hg38.fa.fai',\n",
    " \"tracks\": [\n",
    "      {\n",
    "        \"name\": \"Refseq Genes\",\n",
    "        \"format\": \"refgene\",\n",
    "        \"url\": \"files/refGene.txt.gz\",\n",
    "        \"order\": 1000000,\n",
    "        \"visibilityWindow\": -1,\n",
    "        \"indexed\": False\n",
    "      }\n",
    "    ]\n",
    "}\n",
    "\n",
    "genome = ReferenceGenome(**genome_dict)\n",
    "browser = igv.IgvBrowser(genome=genome)\n",
    "browser"
   ]
  },
  {
   "cell_type": "markdown",
   "id": "23178b97",
   "metadata": {},
   "source": [
    "Albeit, genome files are present locally, the genome is not loaded!\n",
    "\n",
    "This means that igv.js doesn't care file URLs but only care to the id and retrieve files from the internet.\n",
    "\n",
    "This simple example with the id solely works nicely:"
   ]
  },
  {
   "cell_type": "code",
   "execution_count": 8,
   "id": "28143348",
   "metadata": {},
   "outputs": [
    {
     "data": {
      "application/vnd.jupyter.widget-view+json": {
       "model_id": "c3a36d04450449628f714b13adcc3393",
       "version_major": 2,
       "version_minor": 0
      },
      "text/plain": [
       "IgvBrowser(genome=ReferenceGenome(id='hg38'), locus='')"
      ]
     },
     "metadata": {},
     "output_type": "display_data"
    }
   ],
   "source": [
    "genome_dict = {'id': 'hg38'}\n",
    "genome = ReferenceGenome(**genome_dict)\n",
    "browser = igv.IgvBrowser(genome=genome)\n",
    "browser"
   ]
  },
  {
   "cell_type": "markdown",
   "id": "ff62aa54",
   "metadata": {},
   "source": [
    "Regarding the example providing by Sylvain, we can't check whether or not the local file is actually loaded because the reference genome *hg38* is shipped with its annotations (`refGenes.txt.gz`) in any case."
   ]
  },
  {
   "cell_type": "code",
   "execution_count": 9,
   "id": "9c851e0b",
   "metadata": {},
   "outputs": [],
   "source": [
    "trackDict = {'name': 'Refseq Genes',\n",
    "   'format': 'refgene',\n",
    "   'url': 'files/refGene.txt.gz',\n",
    "   'indexed': False,\n",
    "   'visibilityWindow': -1,\n",
    "   'removable': False,\n",
    "   'order': 1000000}\n",
    "oneMoreTrack = Track(**trackDict)\n",
    "browser.add_track(oneMoreTrack)"
   ]
  },
  {
   "cell_type": "code",
   "execution_count": null,
   "id": "e8476696",
   "metadata": {},
   "outputs": [],
   "source": []
  }
 ],
 "metadata": {
  "kernelspec": {
   "display_name": "Python 3",
   "language": "python",
   "name": "python3"
  },
  "language_info": {
   "codemirror_mode": {
    "name": "ipython",
    "version": 3
   },
   "file_extension": ".py",
   "mimetype": "text/x-python",
   "name": "python",
   "nbconvert_exporter": "python",
   "pygments_lexer": "ipython3",
   "version": "3.8.8"
  }
 },
 "nbformat": 4,
 "nbformat_minor": 5
}
