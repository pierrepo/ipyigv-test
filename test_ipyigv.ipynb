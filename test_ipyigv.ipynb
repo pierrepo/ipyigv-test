{
 "cells": [
  {
   "cell_type": "markdown",
   "id": "graduate-bangkok",
   "metadata": {},
   "source": [
    "# Test with ipyigv and local files\n",
    "\n",
    "## Load modules"
   ]
  },
  {
   "cell_type": "code",
   "execution_count": 1,
   "id": "regulation-poetry",
   "metadata": {},
   "outputs": [],
   "source": [
    "import ipyigv as igv\n",
    "from ipywidgets.widgets.trait_types import InstanceDict\n",
    "from ipyigv.options import ReferenceGenome, Track\n",
    "from ipywidgets import Output "
   ]
  },
  {
   "cell_type": "markdown",
   "id": "preceding-pendant",
   "metadata": {},
   "source": [
    "## Remote human genome (reference use case)"
   ]
  },
  {
   "cell_type": "code",
   "execution_count": 2,
   "id": "rapid-writing",
   "metadata": {},
   "outputs": [
    {
     "data": {
      "application/vnd.jupyter.widget-view+json": {
       "model_id": "006ec1b4842a4c13aeda2ba8d77df395",
       "version_major": 2,
       "version_minor": 0
      },
      "text/plain": [
       "IgvBrowser(genome=ReferenceGenome(cytobandURL='https://s3.dualstack.us-east-1.amazonaws.com/igv.org.genomes/hg…"
      ]
     },
     "metadata": {},
     "output_type": "display_data"
    }
   ],
   "source": [
    "genome_dict = {\n",
    "    'id': 'hg38',\n",
    "    'name': 'Human (GRCh38/hg38)',\n",
    "    'fastaURL': 'https://s3.dualstack.us-east-1.amazonaws.com/igv.broadinstitute.org/genomes/seq/hg38/hg38.fa',\n",
    "    'indexURL': 'https://s3.dualstack.us-east-1.amazonaws.com/igv.broadinstitute.org/genomes/seq/hg38/hg38.fa.fai',\n",
    "    'cytobandURL': 'https://s3.dualstack.us-east-1.amazonaws.com/igv.org.genomes/hg38/annotations/cytoBandIdeo.txt.gz',\n",
    "    'tracks': [\n",
    "        {\n",
    "            'name': 'Refseq Genes',\n",
    "            'format': 'refgene',\n",
    "            'url': 'https://s3.dualstack.us-east-1.amazonaws.com/igv.org.genomes/hg38/refGene.txt.gz',\n",
    "            'indexed': False,\n",
    "            'visibilityWindow': -1,\n",
    "            'removable': False,\n",
    "            'order': 1000000\n",
    "        }\n",
    "    ]\n",
    "}\n",
    "\n",
    "genome = ReferenceGenome(**genome_dict)\n",
    "browser = igv.IgvBrowser(genome=genome)\n",
    "browser"
   ]
  },
  {
   "cell_type": "markdown",
   "id": "dominant-moisture",
   "metadata": {},
   "source": [
    "This should work."
   ]
  },
  {
   "cell_type": "markdown",
   "id": "funny-concord",
   "metadata": {},
   "source": [
    "## Load local *Ostreococcus tauri* genome\n",
    "\n",
    "Genome index (`otauri.fa.fai`) has been created with the standalone version of IGV and this guideline: https://software.broadinstitute.org/software/igv/LoadGenome"
   ]
  },
  {
   "cell_type": "code",
   "execution_count": 3,
   "id": "deadly-adrian",
   "metadata": {},
   "outputs": [
    {
     "data": {
      "application/vnd.jupyter.widget-view+json": {
       "model_id": "745a85fedceb4914a2a3398ac1780610",
       "version_major": 2,
       "version_minor": 0
      },
      "text/plain": [
       "IgvBrowser(genome=ReferenceGenome(fastaURL='files/otauri.fa', id='otauri', indexURL='files/otauri.fa.fai', nam…"
      ]
     },
     "metadata": {},
     "output_type": "display_data"
    }
   ],
   "source": [
    "genome_dict = {\n",
    "    \"id\": \"otauri\",\n",
    "    \"name\": \"O tauri\",\n",
    "    \"fastaURL\": \"files/otauri.fa\",\n",
    "    \"indexURL\": \"files/otauri.fa.fai\",\n",
    "    \"tracks\": [\n",
    "      {\n",
    "        \"name\": \"Refseq Genes\",\n",
    "        \"format\": \"refgene\",\n",
    "        \"url\": \"files/otauri.gff\",\n",
    "        \"order\": 1000000,\n",
    "        \"visibilityWindow\": -1,\n",
    "        \"indexed\": False\n",
    "      }\n",
    "    ]\n",
    "}\n",
    "\n",
    "genome = ReferenceGenome(**genome_dict)\n",
    "browser = igv.IgvBrowser(genome=genome)\n",
    "browser"
   ]
  },
  {
   "cell_type": "markdown",
   "id": "warming-johnson",
   "metadata": {},
   "source": [
    "The genome is not loaded."
   ]
  },
  {
   "cell_type": "markdown",
   "id": "standard-verse",
   "metadata": {},
   "source": [
    "## Local human genome\n",
    "\n",
    "Download the data first :"
   ]
  },
  {
   "cell_type": "code",
   "execution_count": 4,
   "id": "foreign-renaissance",
   "metadata": {},
   "outputs": [],
   "source": [
    "%%bash\n",
    "\n",
    "if [[ ! -f hg38.fa ]]\n",
    "then\n",
    "    wget -c --no-verbose https://s3.dualstack.us-east-1.amazonaws.com/igv.broadinstitute.org/genomes/seq/hg38/hg38.fa\n",
    "fi\n",
    "\n",
    "if [[ ! -f hg38.fa.fai ]]\n",
    "then\n",
    "    wget -c --no-verbose https://s3.dualstack.us-east-1.amazonaws.com/igv.broadinstitute.org/genomes/seq/hg38/hg38.fa.fai\n",
    "fi\n",
    "\n",
    "if [[ ! -f refGene.txt.gz ]]\n",
    "then\n",
    "    wget -c --no-verbose https://s3.dualstack.us-east-1.amazonaws.com/igv.org.genomes/hg38/refGene.txt.gz\n",
    "fi"
   ]
  },
  {
   "cell_type": "code",
   "execution_count": 5,
   "id": "dying-orchestra",
   "metadata": {},
   "outputs": [
    {
     "name": "stdout",
     "output_type": "stream",
     "text": [
      "-rw-rw-r-- 1 pierre pierre 3,1G mars  11  2014 hg38.fa\n",
      "-rw-rw-r-- 1 pierre pierre  19K mars  11  2014 hg38.fa.fai\n",
      "-rw-rw-r-- 1 pierre pierre 8,0M août  11  2020 refGene.txt.gz\n"
     ]
    }
   ],
   "source": [
    "!ls -lh hg38* ref*"
   ]
  },
  {
   "cell_type": "code",
   "execution_count": 6,
   "id": "following-magic",
   "metadata": {},
   "outputs": [
    {
     "data": {
      "application/vnd.jupyter.widget-view+json": {
       "model_id": "6c7da50d326c445b891c0d5a07a56dc2",
       "version_major": 2,
       "version_minor": 0
      },
      "text/plain": [
       "IgvBrowser(genome=ReferenceGenome(fastaURL='files/hg38.fa', id='hg38', indexURL='files/hg38.fa.fai', name='Hum…"
      ]
     },
     "metadata": {},
     "output_type": "display_data"
    }
   ],
   "source": [
    "genome_dict = {'id': 'hg38',\n",
    " 'name': 'Human (GRCh38/hg38)',\n",
    " 'fastaURL': 'files/hg38.fa',\n",
    " 'indexURL': 'files/hg38.fa.fai',\n",
    " \"tracks\": [\n",
    "      {\n",
    "        \"name\": \"Refseq Genes\",\n",
    "        \"format\": \"refgene\",\n",
    "        \"url\": \"files/refGene.txt.gz\",\n",
    "        \"order\": 1000000,\n",
    "        \"visibilityWindow\": -1,\n",
    "        \"indexed\": False\n",
    "      }\n",
    "    ]\n",
    "}\n",
    "genome = ReferenceGenome(**genome_dict)\n",
    "browser = igv.IgvBrowser(genome=genome)\n",
    "browser"
   ]
  },
  {
   "cell_type": "markdown",
   "id": "seven-princess",
   "metadata": {},
   "source": [
    "It works!\n",
    "\n",
    "Now let's change the id of the genome:"
   ]
  },
  {
   "cell_type": "code",
   "execution_count": 7,
   "id": "universal-uniform",
   "metadata": {},
   "outputs": [
    {
     "data": {
      "application/vnd.jupyter.widget-view+json": {
       "model_id": "58ed63342e7d4f47947704a93213a36d",
       "version_major": 2,
       "version_minor": 0
      },
      "text/plain": [
       "IgvBrowser(genome=ReferenceGenome(fastaURL='files/hg38.fa', id='toto', indexURL='files/hg38.fa.fai', name='Hum…"
      ]
     },
     "metadata": {},
     "output_type": "display_data"
    }
   ],
   "source": [
    "genome_dict = {'id': 'toto',\n",
    " 'name': 'Human (GRCh38/hg38)',\n",
    " 'fastaURL': 'files/hg38.fa',\n",
    " 'indexURL': 'files/hg38.fa.fai',\n",
    " \"tracks\": [\n",
    "      {\n",
    "        \"name\": \"Refseq Genes\",\n",
    "        \"format\": \"refgene\",\n",
    "        \"url\": \"files/refGene.txt.gz\",\n",
    "        \"order\": 1000000,\n",
    "        \"visibilityWindow\": -1,\n",
    "        \"indexed\": False\n",
    "      }\n",
    "    ]\n",
    "}\n",
    "\n",
    "genome = ReferenceGenome(**genome_dict)\n",
    "browser = igv.IgvBrowser(genome=genome)\n",
    "browser"
   ]
  },
  {
   "cell_type": "markdown",
   "id": "detected-alert",
   "metadata": {},
   "source": [
    "Albeit, genome files are present locally, the genome is not loaded!\n",
    "\n",
    "This means that igv.js doesn't care file URLs but only care to the id and retrieve files from the internet.\n",
    "\n",
    "This simple example with the id solely works nicely:"
   ]
  },
  {
   "cell_type": "code",
   "execution_count": 8,
   "id": "earlier-banana",
   "metadata": {},
   "outputs": [
    {
     "data": {
      "application/vnd.jupyter.widget-view+json": {
       "model_id": "c3a36d04450449628f714b13adcc3393",
       "version_major": 2,
       "version_minor": 0
      },
      "text/plain": [
       "IgvBrowser(genome=ReferenceGenome(id='hg38'), locus='')"
      ]
     },
     "metadata": {},
     "output_type": "display_data"
    }
   ],
   "source": [
    "genome_dict = {'id': 'hg38'}\n",
    "genome = ReferenceGenome(**genome_dict)\n",
    "browser = igv.IgvBrowser(genome=genome)\n",
    "browser"
   ]
  },
  {
   "cell_type": "markdown",
   "id": "rocky-marina",
   "metadata": {},
   "source": [
    "Regarding the example providing by Sylvain, we can't check whether or not the local file is actually loaded because the reference genome *hg38* is shipped with its annotations (`refGenes.txt.gz`) in any case."
   ]
  },
  {
   "cell_type": "code",
   "execution_count": 9,
   "id": "trained-dream",
   "metadata": {},
   "outputs": [],
   "source": [
    "trackDict = {'name': 'Refseq Genes',\n",
    "   'format': 'refgene',\n",
    "   'url': 'files/refGene.txt.gz',\n",
    "   'indexed': False,\n",
    "   'visibilityWindow': -1,\n",
    "   'removable': False,\n",
    "   'order': 1000000}\n",
    "oneMoreTrack = Track(**trackDict)\n",
    "browser.add_track(oneMoreTrack)"
   ]
  },
  {
   "cell_type": "code",
   "execution_count": null,
   "id": "ceramic-harmony",
   "metadata": {},
   "outputs": [],
   "source": []
  }
 ],
 "metadata": {
  "kernelspec": {
   "display_name": "Python 3",
   "language": "python",
   "name": "python3"
  },
  "language_info": {
   "codemirror_mode": {
    "name": "ipython",
    "version": 3
   },
   "file_extension": ".py",
   "mimetype": "text/x-python",
   "name": "python",
   "nbconvert_exporter": "python",
   "pygments_lexer": "ipython3",
   "version": "3.8.8"
  }
 },
 "nbformat": 4,
 "nbformat_minor": 5
}
